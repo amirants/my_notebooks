{
 "cells": [
  {
   "cell_type": "code",
   "execution_count": 27,
   "metadata": {},
   "outputs": [
    {
     "data": {
      "text/html": [
       "        <script type=\"text/javascript\">\n",
       "        window.PlotlyConfig = {MathJaxConfig: 'local'};\n",
       "        if (window.MathJax) {MathJax.Hub.Config({SVG: {font: \"STIX-Web\"}});}\n",
       "        if (typeof require !== 'undefined') {\n",
       "        require.undef(\"plotly\");\n",
       "        requirejs.config({\n",
       "            paths: {\n",
       "                'plotly': ['https://cdn.plot.ly/plotly-latest.min']\n",
       "            }\n",
       "        });\n",
       "        require(['plotly'], function(Plotly) {\n",
       "            window._Plotly = Plotly;\n",
       "        });\n",
       "        }\n",
       "        </script>\n",
       "        "
      ]
     },
     "metadata": {},
     "output_type": "display_data"
    }
   ],
   "source": [
    "import pandas as pd\n",
    "import numpy as np\n",
    "from sklearn.metrics import roc_auc_score\n",
    "\n",
    "import chart_studio.plotly as ply\n",
    "from plotly.offline import iplot\n",
    "\n",
    "import cufflinks\n",
    "cufflinks.go_offline()\n",
    "\n",
    "import plotly.express as px\n",
    "\n",
    "import datetime\n",
    "\n",
    "from sklearn.preprocessing import OneHotEncoder\n",
    "\n",
    "from sklearn.model_selection import train_test_split\n",
    "\n",
    "from sklearn.cluster import KMeans\n",
    "from sklearn.neighbors import NearestNeighbors"
   ]
  },
  {
   "cell_type": "code",
   "execution_count": 28,
   "metadata": {},
   "outputs": [],
   "source": [
    "def count_weekdays(start_date, n):\n",
    "    t = start_date.weekday()\n",
    "    res = 7*[0]\n",
    "    for i in range(7):\n",
    "        if i <  n % 7:\n",
    "            res[(i + t) % 7] = n // 7 + 1\n",
    "        else:\n",
    "            res[(i + t) % 7] = n // 7\n",
    "    return np.array(res)\n",
    "\n",
    "def add_features(train_data, test_data):\n",
    "    for data in [train_data, test_data]:\n",
    "        data.loc[:,'time_as_str'] = data['due'].apply(lambda x: x[x.find(' ') + 1: -4])\n",
    "        data.loc[:, 'date_as_str'] = data['due'].apply(lambda x: x[: x.find(' ')])\n",
    "        \n",
    "        null_time = datetime.datetime(2014, 1, 1, 0, 0)\n",
    "        data_d_s = pd.to_datetime(data['due'])\n",
    "        data['time_as_dt'] = data_d_s\n",
    "        time_t = pd.to_datetime(data['time_as_str'])\n",
    "        week_day = data_d_s.dt.dayofweek\n",
    "        data.loc[:, 'day_of_week'] = week_day\n",
    "        data.loc[:, 'day'] = data_d_s.dt.day\n",
    "        data.loc[:, 'month'] = data_d_s.dt.month\n",
    "        data.loc[:, 'year'] = data_d_s.dt.year\n",
    "        data.loc[:, 'hour'] = time_t.dt.hour\n",
    "        data.loc[:, 'is_night'] = (data['hour'] < 6).astype('int')\n",
    "        data.loc[:, 'is_weekend'] = (data['day_of_week'] > 4).astype('int')\n",
    "        data.loc[:, 'total_minutes'] = (pd.to_timedelta(data['time_as_dt'] - null_time).dt.total_seconds()//60).astype('float')\n",
    "        data['total_minutes'] = data['total_minutes'] / (89*24)\n",
    "        data.loc[:, 'time_in_sec'] = pd.to_timedelta(data['time_as_str']).dt.total_seconds()\n",
    "\n",
    "        data.fillna({\n",
    "            'f_class': 'unknown_f',\n",
    "            's_class': 'unknown_s',\n",
    "            't_class': 'unknown_t'\n",
    "        })\n",
    "        \n",
    "        data.drop(['time_as_str', 'date_as_str', 'due'], axis=1, inplace=True)\n",
    "    \n",
    "    for column in ['f_class', 's_class', 't_class']:\n",
    "        train_data[column] = train_data[column].astype('category')\n",
    "        test_data[column] = test_data[column].astype('category')\n",
    "        test_data[column] = (\n",
    "        test_data[column]\n",
    "                .cat\n",
    "                .set_categories(train_data[column].cat.categories)\n",
    "        )\n",
    "    \n",
    "    train_data = pd.get_dummies(train_data)\n",
    "    test_data = pd.get_dummies(test_data)\n",
    "    \n",
    "    return train_data, test_data\n",
    "    "
   ]
  },
  {
   "cell_type": "code",
   "execution_count": 29,
   "metadata": {},
   "outputs": [],
   "source": [
    "def num_orders_to_average_by_weekday(data):\n",
    "#     первая дата в выборке:\n",
    "    start = datetime.datetime(np.min(data['year']), np.min(data['month']), np.min(data['day']))\n",
    "#     последняя дата в выборке:\n",
    "    end = datetime.datetime(np.max(data['year']), np.max(data['month']), np.max(data['day']))\n",
    "#     всего дней в выборке\n",
    "    n = (end - start).days\n",
    "#     сколько каждого из дней недели в выборке\n",
    "    num_days = count_weekdays(start, n)\n",
    "#     сколько объектов за каждый отдельный день недели суммарно\n",
    "    num_orders = np.array(data.groupby('day_of_week').count().iloc[:, 1])\n",
    "    \n",
    "#     print('1', data.loc[[1, 55, 5673, 80333, 554342, 700321], 'lat'])\n",
    "#     в среднем за каждый день недели:\n",
    "    average_num_orders = num_orders/num_days\n",
    "#     сколько объектов за каждую дату в выборке\n",
    "    orders_in_day = data.groupby(['year', 'month', 'day']).count().iloc[:,1].astype(float)\n",
    "#     print('2', data.loc[[1, 55, 5673, 80333, 554342, 700321], 'lat'])\n",
    "\n",
    "#     искомое отношение: (кол-во объектов в конкретный день)/(среднее кол-во объектов за этот д. н.)\n",
    "    for date in np.array(orders_in_day.index):\n",
    "        wd = datetime.datetime(date[0], date[1], date[2]).weekday()\n",
    "        orders_in_day[date] /= average_num_orders[wd]\n",
    "    \n",
    "#     объединяем датафреймы\n",
    "    v = pd.DataFrame(orders_in_day)\n",
    "    v['feat_1'] = v['lat']\n",
    "    v.drop(['lat'], axis=1, inplace=True)\n",
    "#     print('3', data.loc[[1, 55, 5673, 80333, 554342, 700321], 'lat'])\n",
    "    return data.join(v, on = ['year', 'month', 'day'])"
   ]
  },
  {
   "cell_type": "code",
   "execution_count": 30,
   "metadata": {},
   "outputs": [],
   "source": [
    "def num_orders_to_average_by_hour(data):\n",
    "#     первая дата в выборке:\n",
    "    start = datetime.datetime(np.min(data['year']), np.min(data['month']), np.min(data['day']))\n",
    "#     последняя дата в выборке:\n",
    "    end = datetime.datetime(np.max(data['year']), np.max(data['month']), np.max(data['day']))\n",
    "#     всего дней в выборке\n",
    "    n = (end - start).days\n",
    "#     сколько каждого из дней недели в выборке\n",
    "    num_weekdays = count_weekdays(start, n)\n",
    "#     сколько объектов за каждый отдельный час суммарно\n",
    "    num_orders = np.array(data.groupby('hour').count().iloc[:, 1])\n",
    "    \n",
    "#     в среднем за каждый час:\n",
    "    average_num_orders = num_orders/n\n",
    "#     сколько объектов за каждый час в выборке\n",
    "    orders_in_hour = data.groupby(['year', 'month', 'day', 'hour']).count().iloc[:,1].astype(float)\n",
    "\n",
    "#     искомое отношение: (кол-во объектов в конкретный час)/(среднее кол-во объектов за этот час по всем датам)\n",
    "    for hour in np.array(orders_in_hour.index):\n",
    "        orders_in_hour[hour] /= average_num_orders[hour[3]]\n",
    "    \n",
    "#     объединяем датафреймы\n",
    "    v = pd.DataFrame(orders_in_hour)\n",
    "    v['feat_2'] = v['lat']\n",
    "    v.drop(['lat'], axis=1, inplace=True)\n",
    "#     print('3', data.loc[[1, 55, 5673, 80333, 554342, 700321], 'lat'])\n",
    "    return data.join(v, on = ['year', 'month', 'day', 'hour'])"
   ]
  },
  {
   "cell_type": "code",
   "execution_count": 31,
   "metadata": {},
   "outputs": [],
   "source": [
    "def dist_to_clusters(data):\n",
    "    kmeans_model = KMeans(n_clusters=5, random_state=1).fit(data[['lon', 'lat']])\n",
    "\n",
    "    clusters = kmeans_model.fit_predict(data[['lon', 'lat']])\n",
    "    data['cluster'] = clusters\n",
    "    \n",
    "    data.loc[:,'centroid_1'] = data['cluster'].apply(lambda x: kmeans_model.cluster_centers_[x][0])\n",
    "    data.loc[:,'centroid_2'] = data['cluster'].apply(lambda x: kmeans_model.cluster_centers_[x][1])\n",
    "#     L_1 distance\n",
    "    distances = abs(data['lon'] - data['centroid_1']) + abs(data['lat'] - data['centroid_2'])\n",
    "    data['dist_to_centroid'] = distances\n",
    "    return data"
   ]
  },
  {
   "cell_type": "code",
   "execution_count": 32,
   "metadata": {},
   "outputs": [],
   "source": [
    "def kNN_features(data, train_target):\n",
    "    h = train_target.shape[0]\n",
    "    X = data[['lon', 'lat', 'total_minutes']]\n",
    "    X_train = X[:h]\n",
    "    y_train = train_target\n",
    "    X_test = X[h:]\n",
    "    \n",
    "    neigh = NearestNeighbors(2, 0.01)\n",
    "    neigh.fit(X_train)\n",
    "    neighbors = neigh.kneighbors(X, 2, return_distance=True)\n",
    "    \n",
    "    X_train['neighbor'] = neighbors[1][:X_train.shape[0],1]\n",
    "    X_train['dist_to_nn'] = neighbors[0][:X_train.shape[0],1]\n",
    "\n",
    "    X_test['neighbor'] = neighbors[1][X_train.shape[0]:,0]\n",
    "    X_test['dist_to_nn'] = neighbors[0][X_train.shape[0]:,0]\n",
    "    \n",
    "    X = pd.concat([X_train, X_test])\n",
    "    \n",
    "    data['kNN_feat'] = X['neighbor'].apply(lambda x: train_target.iloc[x])\n",
    "    data['neighbor'] = X['neighbor']\n",
    "    data['dist_to_nn'] = X['dist_to_nn']\n",
    "    return data"
   ]
  },
  {
   "cell_type": "code",
   "execution_count": 33,
   "metadata": {},
   "outputs": [],
   "source": [
    "def kNN_features(data):\n",
    "    X = data[['lon', 'lat', 'total_minutes']]\n",
    "    \n",
    "    neigh = NearestNeighbors(2, 0.01)\n",
    "    neigh.fit(X)\n",
    "    neighbors = neigh.kneighbors(X, 2, return_distance=True)\n",
    "    \n",
    "    X['neighbor'] = neighbors[1][:, 1]\n",
    "    X['dist_to_nn'] = neighbors[0][:, 1]\n",
    "\n",
    "    data['neighbor'] = X['neighbor']\n",
    "    data['dist_to_nn'] = X['dist_to_nn']\n",
    "    return data"
   ]
  },
  {
   "cell_type": "code",
   "execution_count": 34,
   "metadata": {},
   "outputs": [],
   "source": [
    "def split_by_time(data, target, p = 0.7):\n",
    "    N = data.shape[0]\n",
    "    data.loc[:,'total_time'] = pd.to_datetime(data['due'])\n",
    "    data.loc[:, 'target'] = target\n",
    "    data.sort_values(by = 'total_time', inplace=True)\n",
    "    y_train = data['target'][:int(p*N)]\n",
    "    y_test = data['target'][int(p*N):]\n",
    "    data.drop(['target', 'total_time'], axis=1, inplace=True)\n",
    "    X_train = data[:int(p*N)]\n",
    "    X_test = data[int(p*N):]\n",
    "    return X_train, X_test, y_train, y_test, int(p*N)"
   ]
  },
  {
   "cell_type": "code",
   "execution_count": 35,
   "metadata": {},
   "outputs": [],
   "source": [
    "def category_encode(data, categories = ['day_of_week', 'cluster']):\n",
    "    for category in categories:\n",
    "        data[category] = data[category].astype('category')\n",
    "        data = pd.get_dummies(data)\n",
    "    return data"
   ]
  },
  {
   "cell_type": "code",
   "execution_count": 36,
   "metadata": {},
   "outputs": [],
   "source": [
    "train_data = pd.read_csv('ozonmasters-ml2-2020-c1/1_data/train_data.csv')\n",
    "test_data = pd.read_csv('ozonmasters-ml2-2020-c1/1_data/test_data.csv')\n",
    "train_target = pd.read_csv('ozonmasters-ml2-2020-c1/1_data/train_target.csv')"
   ]
  },
  {
   "cell_type": "code",
   "execution_count": 37,
   "metadata": {},
   "outputs": [],
   "source": [
    "X_train, X_test, y_train = train_data, test_data, train_target"
   ]
  },
  {
   "cell_type": "code",
   "execution_count": 38,
   "metadata": {},
   "outputs": [],
   "source": [
    "X_train, X_test = add_features(X_train, X_test)"
   ]
  },
  {
   "cell_type": "code",
   "execution_count": 39,
   "metadata": {},
   "outputs": [],
   "source": [
    "X = pd.concat([X_train, X_test])\n",
    "X = num_orders_to_average_by_weekday(X)"
   ]
  },
  {
   "cell_type": "code",
   "execution_count": 40,
   "metadata": {},
   "outputs": [],
   "source": [
    "X = num_orders_to_average_by_hour(X)"
   ]
  },
  {
   "cell_type": "code",
   "execution_count": 41,
   "metadata": {},
   "outputs": [],
   "source": [
    "X = dist_to_clusters(X)"
   ]
  },
  {
   "cell_type": "code",
   "execution_count": 42,
   "metadata": {},
   "outputs": [],
   "source": [
    "X = kNN_features(X)"
   ]
  },
  {
   "cell_type": "code",
   "execution_count": 43,
   "metadata": {},
   "outputs": [],
   "source": [
    "X = category_encode(X)"
   ]
  },
  {
   "cell_type": "code",
   "execution_count": 44,
   "metadata": {},
   "outputs": [
    {
     "data": {
      "text/plain": [
       "Index(['dist', 'lat', 'lon', 'time_as_dt', 'day', 'month', 'year', 'hour',\n",
       "       'is_night', 'is_weekend', 'total_minutes', 'time_in_sec',\n",
       "       'f_class_business', 'f_class_econom', 'f_class_vip', 's_class_business',\n",
       "       's_class_econom', 's_class_vip', 't_class_business', 't_class_econom',\n",
       "       't_class_vip', 'feat_1', 'feat_2', 'centroid_1', 'centroid_2',\n",
       "       'dist_to_centroid', 'neighbor', 'dist_to_nn', 'day_of_week_0',\n",
       "       'day_of_week_1', 'day_of_week_2', 'day_of_week_3', 'day_of_week_4',\n",
       "       'day_of_week_5', 'day_of_week_6', 'cluster_0', 'cluster_1', 'cluster_2',\n",
       "       'cluster_3', 'cluster_4'],\n",
       "      dtype='object')"
      ]
     },
     "execution_count": 44,
     "metadata": {},
     "output_type": "execute_result"
    }
   ],
   "source": [
    "X.columns"
   ]
  },
  {
   "cell_type": "code",
   "execution_count": 45,
   "metadata": {},
   "outputs": [
    {
     "data": {
      "text/plain": [
       "1187461"
      ]
     },
     "execution_count": 45,
     "metadata": {},
     "output_type": "execute_result"
    }
   ],
   "source": [
    "p = X_train.shape[0]\n",
    "p"
   ]
  },
  {
   "cell_type": "code",
   "execution_count": 46,
   "metadata": {},
   "outputs": [],
   "source": [
    "from lightgbm import LGBMClassifier"
   ]
  },
  {
   "cell_type": "code",
   "execution_count": 47,
   "metadata": {},
   "outputs": [],
   "source": [
    "data = X.drop(['centroid_1', 'centroid_2', 'neighbor', 'hour', 'feat_1',\n",
    "       'time_as_dt', 'day', 'month', 'year', 'total_minutes'], axis=1, inplace=False)"
   ]
  },
  {
   "cell_type": "code",
   "execution_count": 48,
   "metadata": {},
   "outputs": [],
   "source": [
    "train_data = data[:p]\n",
    "test_data = data[p:]\n",
    "train_target = y_train"
   ]
  },
  {
   "cell_type": "code",
   "execution_count": 49,
   "metadata": {},
   "outputs": [],
   "source": [
    "clf = LGBMClassifier(n_estimators=1577, learning_rate=0.05, num_leaves=63, max_depth=5)"
   ]
  },
  {
   "cell_type": "code",
   "execution_count": 50,
   "metadata": {},
   "outputs": [
    {
     "data": {
      "text/plain": [
       "LGBMClassifier(boosting_type='gbdt', class_weight=None, colsample_bytree=1.0,\n",
       "               importance_type='split', learning_rate=0.05, max_depth=5,\n",
       "               min_child_samples=20, min_child_weight=0.001, min_split_gain=0.0,\n",
       "               n_estimators=1577, n_jobs=-1, num_leaves=63, objective=None,\n",
       "               random_state=None, reg_alpha=0.0, reg_lambda=0.0, silent=True,\n",
       "               subsample=1.0, subsample_for_bin=200000, subsample_freq=0)"
      ]
     },
     "execution_count": 50,
     "metadata": {},
     "output_type": "execute_result"
    }
   ],
   "source": [
    "clf.fit(\n",
    "    train_data, train_target.values.ravel(),\n",
    "    eval_metric='auc',\n",
    "    verbose=True,\n",
    ")"
   ]
  },
  {
   "cell_type": "code",
   "execution_count": 51,
   "metadata": {},
   "outputs": [],
   "source": [
    "predictions = clf.predict_proba(test_data)"
   ]
  },
  {
   "cell_type": "code",
   "execution_count": 26,
   "metadata": {},
   "outputs": [
    {
     "ename": "NameError",
     "evalue": "name 'y_test' is not defined",
     "output_type": "error",
     "traceback": [
      "\u001b[0;31m---------------------------------------------------------------------------\u001b[0m",
      "\u001b[0;31mNameError\u001b[0m                                 Traceback (most recent call last)",
      "\u001b[0;32m<ipython-input-26-054953377a81>\u001b[0m in \u001b[0;36m<module>\u001b[0;34m\u001b[0m\n\u001b[0;32m----> 1\u001b[0;31m \u001b[0mtest_target\u001b[0m \u001b[0;34m=\u001b[0m \u001b[0my_test\u001b[0m\u001b[0;34m\u001b[0m\u001b[0;34m\u001b[0m\u001b[0m\n\u001b[0m",
      "\u001b[0;31mNameError\u001b[0m: name 'y_test' is not defined"
     ]
    }
   ],
   "source": [
    "test_target = y_test"
   ]
  },
  {
   "cell_type": "code",
   "execution_count": null,
   "metadata": {},
   "outputs": [],
   "source": [
    "roc_auc_score(test_target, predictions[:,1])"
   ]
  },
  {
   "cell_type": "code",
   "execution_count": 196,
   "metadata": {},
   "outputs": [
    {
     "data": {
      "text/plain": [
       "0.7367386372628475"
      ]
     },
     "execution_count": 196,
     "metadata": {},
     "output_type": "execute_result"
    }
   ],
   "source": [
    "test_target = y_test\n",
    "roc_auc_score(test_target, predictions[:,1])"
   ]
  },
  {
   "cell_type": "code",
   "execution_count": null,
   "metadata": {},
   "outputs": [],
   "source": []
  },
  {
   "cell_type": "code",
   "execution_count": 118,
   "metadata": {},
   "outputs": [
    {
     "data": {
      "text/plain": [
       "Index(['dist', 'lat', 'lon', 'hour', 'is_night', 'is_weekend', 'time_in_sec',\n",
       "       'f_class_business', 'f_class_econom', 'f_class_vip', 's_class_business',\n",
       "       's_class_econom', 's_class_vip', 't_class_business', 't_class_econom',\n",
       "       't_class_vip', 'dist_to_centroid', 'day_of_week_0', 'day_of_week_1',\n",
       "       'day_of_week_2', 'day_of_week_3', 'day_of_week_4', 'day_of_week_5',\n",
       "       'day_of_week_6'],\n",
       "      dtype='object')"
      ]
     },
     "execution_count": 118,
     "metadata": {},
     "output_type": "execute_result"
    }
   ],
   "source": [
    "train_data.columns"
   ]
  },
  {
   "cell_type": "code",
   "execution_count": 52,
   "metadata": {},
   "outputs": [],
   "source": [
    "prediction_df = pd.DataFrame(predictions[:, 1], columns=['target'])\n",
    "prediction_df = prediction_df.reset_index()\n",
    "prediction_df.to_csv('baseline_9.csv', index=0)"
   ]
  },
  {
   "cell_type": "code",
   "execution_count": 123,
   "metadata": {},
   "outputs": [],
   "source": [
    "data2 = pd.concat([train_data, test_data])\n",
    "y = pd.concat([y_train, y_test])"
   ]
  },
  {
   "cell_type": "code",
   "execution_count": 125,
   "metadata": {},
   "outputs": [],
   "source": [
    "X_tr, X_te, y_tr, y_te = train_test_split(data2, y, test_size=0.3, shuffle=True )"
   ]
  },
  {
   "cell_type": "code",
   "execution_count": 126,
   "metadata": {},
   "outputs": [
    {
     "data": {
      "text/plain": [
       "LGBMClassifier(boosting_type='gbdt', class_weight=None, colsample_bytree=1.0,\n",
       "               importance_type='split', learning_rate=0.05, max_depth=5,\n",
       "               min_child_samples=20, min_child_weight=0.001, min_split_gain=0.0,\n",
       "               n_estimators=1577, n_jobs=-1, num_leaves=63, objective=None,\n",
       "               random_state=None, reg_alpha=0.0, reg_lambda=0.0, silent=True,\n",
       "               subsample=1.0, subsample_for_bin=200000, subsample_freq=0)"
      ]
     },
     "execution_count": 126,
     "metadata": {},
     "output_type": "execute_result"
    }
   ],
   "source": [
    "clf.fit(\n",
    "    X_tr, y_tr.values.ravel(),\n",
    "    eval_metric='auc',\n",
    "    verbose=True,\n",
    ")"
   ]
  },
  {
   "cell_type": "code",
   "execution_count": 127,
   "metadata": {},
   "outputs": [
    {
     "data": {
      "text/plain": [
       "0.5020841129263518"
      ]
     },
     "execution_count": 127,
     "metadata": {},
     "output_type": "execute_result"
    }
   ],
   "source": [
    "predictions = clf.predict_proba(X_te)\n",
    "roc_auc_score(y_te, predictions[:,1])"
   ]
  },
  {
   "cell_type": "code",
   "execution_count": 180,
   "metadata": {},
   "outputs": [
    {
     "data": {
      "text/plain": [
       "array([2, 3])"
      ]
     },
     "execution_count": 180,
     "metadata": {},
     "output_type": "execute_result"
    }
   ],
   "source": [
    "X[p:]['month'].unique()"
   ]
  },
  {
   "cell_type": "code",
   "execution_count": null,
   "metadata": {},
   "outputs": [],
   "source": []
  }
 ],
 "metadata": {
  "kernelspec": {
   "display_name": "Python 3",
   "language": "python",
   "name": "python3"
  },
  "language_info": {
   "codemirror_mode": {
    "name": "ipython",
    "version": 3
   },
   "file_extension": ".py",
   "mimetype": "text/x-python",
   "name": "python",
   "nbconvert_exporter": "python",
   "pygments_lexer": "ipython3",
   "version": "3.6.8"
  }
 },
 "nbformat": 4,
 "nbformat_minor": 2
}
