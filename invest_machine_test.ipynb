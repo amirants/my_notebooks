{
  "nbformat": 4,
  "nbformat_minor": 0,
  "metadata": {
    "colab": {
      "name": "invest_machine_test.ipynb",
      "provenance": [],
      "collapsed_sections": [],
      "toc_visible": true
    },
    "kernelspec": {
      "name": "python3",
      "display_name": "Python 3"
    }
  },
  "cells": [
    {
      "cell_type": "code",
      "metadata": {
        "id": "LoRaYuQdF8j4"
      },
      "source": [
        "import pandas as pd\n",
        "import numpy as np\n",
        "from tqdm import tqdm\n",
        "import ast\n",
        "from datetime import datetime as dt\n",
        "from glob import glob\n",
        "from sklearn.metrics import mean_absolute_error\n",
        "import matplotlib.pyplot as plt"
      ],
      "execution_count": 221,
      "outputs": []
    },
    {
      "cell_type": "markdown",
      "metadata": {
        "id": "uWp5DCMSyPxO"
      },
      "source": [
        "## Обработка исходных данных"
      ]
    },
    {
      "cell_type": "code",
      "metadata": {
        "colab": {
          "base_uri": "https://localhost:8080/"
        },
        "id": "6QcYWxIEGbis",
        "outputId": "380d3339-80a0-44a3-ea6f-9152288edcdf"
      },
      "source": [
        "from google.colab import drive\n",
        "drive.mount('/content/drive')"
      ],
      "execution_count": 222,
      "outputs": [
        {
          "output_type": "stream",
          "text": [
            "Drive already mounted at /content/drive; to attempt to forcibly remount, call drive.mount(\"/content/drive\", force_remount=True).\n"
          ],
          "name": "stdout"
        }
      ]
    },
    {
      "cell_type": "code",
      "metadata": {
        "id": "yK2fSKzIDPUR"
      },
      "source": [
        "def parse_file(f):\n",
        "  df = {'tick': [],\n",
        "      'bids_prices': [],\n",
        "      'bids_amounts': [],\n",
        "      'asks_prices': [],\n",
        "      'asks_amounts': [],\n",
        "      'n_bids': [],\n",
        "      'n_asks': [],\n",
        "      'bid_price_mean': [],\n",
        "      'bid_amount_sum': [],\n",
        "      'ask_price_mean': [],\n",
        "      'ask_amount_sum': [],\n",
        "      'mid_price':[]}\n",
        "\n",
        "  for line in f:\n",
        "    line = line.split(' ')\n",
        "    dct = ast.literal_eval(line[1])\n",
        "    \n",
        "    try:\n",
        "      bids_prices = np.array(dct['bids'])[:,0]\n",
        "      bids_amounts = np.array(dct['bids'])[:,1]\n",
        "      n_bids = bids_prices.size\n",
        "      bid_price_mean = np.mean(bids_prices)\n",
        "      bid_amount_sum = np.sum(bids_amounts)\n",
        "    except:\n",
        "      bids_prices = np.nan\n",
        "      bids_amounts = np.nan\n",
        "      n_bids = np.nan\n",
        "      bid_price_mean = np.nan\n",
        "      bid_amount_sum = np.nan\n",
        "\n",
        "    try:  \n",
        "      asks_prices = np.array(dct['asks'])[:,0]\n",
        "      asks_amounts = np.array(dct['asks'])[:,1]\n",
        "      n_asks = asks_prices.size\n",
        "      ask_price_mean = np.mean(asks_prices)\n",
        "      ask_amount_sum = np.sum(asks_amounts)\n",
        "    except:\n",
        "      asks_prices = np.nan\n",
        "      asks_amounts = np.nan\n",
        "      n_asks = np.nan\n",
        "      ask_price_mean = np.nan\n",
        "      ask_amount_sum = np.nan\n",
        "\n",
        "    tick = dt.strptime(line[0], '%Y-%m-%dT%H:%M:%S.%f')\n",
        "    mid_price = np.mean([np.median(bids_prices), np.median(asks_prices)])\n",
        "\n",
        "    df['tick'].append(tick)\n",
        "\n",
        "    df['bids_prices'].append(bids_prices)\n",
        "    df['bids_amounts'].append(bids_amounts)\n",
        "    df['asks_prices'].append(asks_prices)\n",
        "    df['asks_amounts'].append(asks_amounts)\n",
        "\n",
        "    df['n_bids'].append(n_bids)\n",
        "    df['n_asks'].append(n_asks)\n",
        "\n",
        "    df['bid_price_mean'].append(bid_price_mean)\n",
        "    df['bid_amount_sum'].append(bid_amount_sum)\n",
        "\n",
        "    df['ask_price_mean'].append(ask_price_mean)\n",
        "    df['ask_amount_sum'].append(ask_amount_sum)\n",
        "\n",
        "    df['mid_price'].append(mid_price)\n",
        "\n",
        "  return pd.DataFrame(df)\n",
        "\n",
        "def weary_append(x,y):\n",
        "    if x is not None:\n",
        "        if any([a for a in list(x.columns) if a not in y.columns]) or  any([a for a in list(y.columns) if a not in x.columns]):\n",
        "            raise ValueError()\n",
        "        else:\n",
        "            return x.append(y)\n",
        "    else:\n",
        "        return y"
      ],
      "execution_count": 223,
      "outputs": []
    },
    {
      "cell_type": "code",
      "metadata": {
        "id": "wScC7QQef0m6"
      },
      "source": [
        "df = None\n",
        "for fname in glob('drive/MyDrive/Inv.Machine/binance*'):\n",
        "  f = open(fname, 'r')\n",
        "  df = weary_append(df, parse_file(f))"
      ],
      "execution_count": 224,
      "outputs": []
    },
    {
      "cell_type": "code",
      "metadata": {
        "id": "Q8z9MCS_r6kR"
      },
      "source": [
        "df.reset_index(drop=True).to_pickle('drive/MyDrive/Inv.Machine/data.pkl')"
      ],
      "execution_count": 225,
      "outputs": []
    },
    {
      "cell_type": "code",
      "metadata": {
        "id": "lADWAB15B-sv"
      },
      "source": [
        "df = df.reset_index(drop=True)"
      ],
      "execution_count": 226,
      "outputs": []
    },
    {
      "cell_type": "markdown",
      "metadata": {
        "id": "nH5nK9o6uWIG"
      },
      "source": [
        "## Генерация фичей\n",
        "\n",
        "Я решил попробовать предсказывать mid-price через n тиков. Параметр n (глубина предскзания) потом надо подобрать. Несколько идей фичей, которые я собираюсь попробовать:\n",
        "- Угловой коэффициент mid-price за последние $k_1$ тиков. Он должен уловить некоторый тренд изменения цены.\n",
        "- Сумму за последние $k_2$ тиков числа запросов на продажу и покупку (n_bids и n_asks). Предполагаю что он должен влиять как спрос/предложение.\n",
        "- Все возможные отношения вида $\\frac{price}{amount}$ усредненный за последние $k_3$ дней."
      ]
    },
    {
      "cell_type": "code",
      "metadata": {
        "id": "2r9vuSFHSKt5"
      },
      "source": [
        "df = pd.read_pickle('drive/MyDrive/Inv.Machine/data.pkl')"
      ],
      "execution_count": 228,
      "outputs": []
    },
    {
      "cell_type": "code",
      "metadata": {
        "id": "Njph7hw_5sYv"
      },
      "source": [
        "# Идентификация параметров\n",
        "n = 5\n",
        "k1 = 15\n",
        "k2 = 5\n",
        "k3 = 5"
      ],
      "execution_count": 229,
      "outputs": []
    },
    {
      "cell_type": "code",
      "metadata": {
        "id": "534E4P3cuQil"
      },
      "source": [
        "df['target'] = df['mid_price'].shift(-n)\n",
        "\n",
        "df['angle'] = df['mid_price'] - df['mid_price'].shift(k1) # пока попробуем так. Плюс - быстро ситается\n",
        "\n",
        "df['bids_sum'] = df['n_bids'].rolling(k2).sum()\n",
        "df['asks_sum'] = df['n_asks'].rolling(k2).sum()\n",
        "\n",
        "df['rel1'] = (df['bid_price_mean'] / df['bid_amount_sum']).rolling(k3).sum()\n",
        "df['rel2'] = (df['bid_price_mean'] / df['ask_amount_sum']).rolling(k3).sum()\n",
        "df['rel3'] = (df['ask_price_mean'] / df['bid_amount_sum']).rolling(k3).sum()\n",
        "df['rel4'] = (df['ask_price_mean'] / df['ask_amount_sum']).rolling(k3).sum()"
      ],
      "execution_count": 230,
      "outputs": []
    },
    {
      "cell_type": "markdown",
      "metadata": {
        "id": "TFNnwtDqTC4v"
      },
      "source": [
        "## Аналитика"
      ]
    },
    {
      "cell_type": "code",
      "metadata": {
        "colab": {
          "base_uri": "https://localhost:8080/",
          "height": 357
        },
        "id": "IVz7WeKVUDyd",
        "outputId": "a8707a60-3066-4720-f4de-bfbd37287c3b"
      },
      "source": [
        "df[::100]['target'].plot(figsize=(20, 5))"
      ],
      "execution_count": 231,
      "outputs": [
        {
          "output_type": "execute_result",
          "data": {
            "text/plain": [
              "<matplotlib.axes._subplots.AxesSubplot at 0x7fe576083610>"
            ]
          },
          "metadata": {
            "tags": []
          },
          "execution_count": 231
        },
        {
          "output_type": "display_data",
          "data": {
            "image/png": "[encoded data removed]",
            "text/plain": [
              "<Figure size 1440x360 with 1 Axes>"
            ]
          },
          "metadata": {
            "tags": [],
            "needs_background": "light"
          }
        }
      ]
    },
    {
      "cell_type": "markdown",
      "metadata": {
        "id": "501VsEswFMSA"
      },
      "source": [
        "## Модель. LGBM"
      ]
    },
    {
      "cell_type": "code",
      "metadata": {
        "id": "5jTSNMMQ8zcr"
      },
      "source": [
        "import lightgbm as lgb\n",
        "\n",
        "params = {\n",
        "    'boosting_type': 'gbdt',\n",
        "    'objective': 'regression_l1',\n",
        "    'metric': {'l1', 'l2'},\n",
        "    'n_jobs': -1,\n",
        "    # 'seed': 20210317,\n",
        "    'learning_rate': 0.01,\n",
        "    'max_depth': 10\n",
        "    }"
      ],
      "execution_count": 274,
      "outputs": []
    },
    {
      "cell_type": "code",
      "metadata": {
        "id": "RdzRrqjiOdyu"
      },
      "source": [
        "# train-val-test split\n",
        "df = df[df['target'].notna()].sort_values(by='tick')\n",
        "test = df[-n:]\n",
        "train_val = df[:-n]\n",
        "\n",
        "train_ratio = 0.9\n",
        "split_index = int(train_val.shape[0] * train_ratio)\n",
        "\n",
        "train = train_val[:split_index]\n",
        "valid = train_val[split_index:]"
      ],
      "execution_count": 275,
      "outputs": []
    },
    {
      "cell_type": "code",
      "metadata": {
        "colab": {
          "base_uri": "https://localhost:8080/"
        },
        "id": "-uIyJJpZRrJQ",
        "outputId": "4f1caf56-feba-4c11-bc1e-80657c1f190d"
      },
      "source": [
        "train.shape, valid.shape"
      ],
      "execution_count": 276,
      "outputs": [
        {
          "output_type": "execute_result",
          "data": {
            "text/plain": [
              "((532381, 20), (59154, 20))"
            ]
          },
          "metadata": {
            "tags": []
          },
          "execution_count": 276
        }
      ]
    },
    {
      "cell_type": "code",
      "metadata": {
        "id": "u2Js1R29OtO7"
      },
      "source": [
        "col_names = ['mid_price', 'angle', 'bids_sum',\n",
        "                                'asks_sum', 'rel1', 'rel2', 'rel3', 'rel4']\n",
        "                       \n",
        "\n",
        "train_set = lgb.Dataset(train[col_names],\n",
        "                        train.target,\n",
        "                        feature_name=col_names)\n",
        "\n",
        "val_set = lgb.Dataset(valid[col_names],\n",
        "                        valid.target,\n",
        "                        feature_name=col_names)"
      ],
      "execution_count": 277,
      "outputs": []
    },
    {
      "cell_type": "code",
      "metadata": {
        "colab": {
          "base_uri": "https://localhost:8080/"
        },
        "id": "Vcv2VHQQOtup",
        "outputId": "7ff96995-d67a-4332-9808-a79be387baf9"
      },
      "source": [
        "model = lgb.train(params, train_set, \n",
        "              num_boost_round = 10000,\n",
        "              early_stopping_rounds = 50, \n",
        "              valid_sets = [train_set, val_set],\n",
        "              verbose_eval = 50)"
      ],
      "execution_count": 278,
      "outputs": [
        {
          "output_type": "stream",
          "text": [
            "Training until validation scores don't improve for 50 rounds.\n",
            "[50]\ttraining's l1: 1351.45\ttraining's l2: 4.95351e+06\tvalid_1's l1: 8926.01\tvalid_1's l2: 7.98384e+07\n",
            "[100]\ttraining's l1: 952.054\ttraining's l2: 3.45959e+06\tvalid_1's l1: 8497.8\tvalid_1's l2: 7.25775e+07\n",
            "[150]\ttraining's l1: 712.388\ttraining's l2: 2.82426e+06\tvalid_1's l1: 8211.49\tvalid_1's l2: 6.79672e+07\n",
            "[200]\ttraining's l1: 574.78\ttraining's l2: 2.4903e+06\tvalid_1's l1: 7981.69\tvalid_1's l2: 6.43223e+07\n",
            "[250]\ttraining's l1: 418.107\ttraining's l2: 1.72968e+06\tvalid_1's l1: 7057.57\tvalid_1's l2: 5.04036e+07\n",
            "[300]\ttraining's l1: 332.011\ttraining's l2: 1.33892e+06\tvalid_1's l1: 6450.43\tvalid_1's l2: 4.21556e+07\n",
            "[350]\ttraining's l1: 280.052\ttraining's l2: 1.14138e+06\tvalid_1's l1: 6082.39\tvalid_1's l2: 3.75201e+07\n",
            "[400]\ttraining's l1: 248.858\ttraining's l2: 1.03568e+06\tvalid_1's l1: 5859.14\tvalid_1's l2: 3.48434e+07\n",
            "[450]\ttraining's l1: 230.088\ttraining's l2: 976700\tvalid_1's l1: 5723.96\tvalid_1's l2: 3.32716e+07\n",
            "[500]\ttraining's l1: 218.589\ttraining's l2: 942761\tvalid_1's l1: 5642.21\tvalid_1's l2: 3.23418e+07\n",
            "[550]\ttraining's l1: 209.647\ttraining's l2: 915374\tvalid_1's l1: 5573.73\tvalid_1's l2: 3.15708e+07\n",
            "[600]\ttraining's l1: 175.789\ttraining's l2: 670126\tvalid_1's l1: 4860.52\tvalid_1's l2: 2.40227e+07\n",
            "[650]\ttraining's l1: 111.526\ttraining's l2: 254650\tvalid_1's l1: 3189.9\tvalid_1's l2: 1.03773e+07\n",
            "[700]\ttraining's l1: 72.9605\ttraining's l2: 102163\tvalid_1's l1: 2177.96\tvalid_1's l2: 4.87365e+06\n",
            "[750]\ttraining's l1: 49.4573\ttraining's l2: 45341.3\tvalid_1's l1: 1565.7\tvalid_1's l2: 2.5553e+06\n",
            "[800]\ttraining's l1: 35.243\ttraining's l2: 23697.3\tvalid_1's l1: 1186.26\tvalid_1's l2: 1.50164e+06\n",
            "[850]\ttraining's l1: 26.9532\ttraining's l2: 15026.1\tvalid_1's l1: 926.88\tvalid_1's l2: 949595\n",
            "[900]\ttraining's l1: 22.226\ttraining's l2: 11345.9\tvalid_1's l1: 743.429\tvalid_1's l2: 641387\n",
            "[950]\ttraining's l1: 19.2807\ttraining's l2: 9516.26\tvalid_1's l1: 600.375\tvalid_1's l2: 446610\n",
            "[1000]\ttraining's l1: 17.4171\ttraining's l2: 8547.07\tvalid_1's l1: 477.769\tvalid_1's l2: 308409\n",
            "[1050]\ttraining's l1: 16.3351\ttraining's l2: 8081.44\tvalid_1's l1: 383.364\tvalid_1's l2: 215483\n",
            "[1100]\ttraining's l1: 15.7178\ttraining's l2: 7862.67\tvalid_1's l1: 311.142\tvalid_1's l2: 156249\n",
            "[1150]\ttraining's l1: 15.3844\ttraining's l2: 7752.31\tvalid_1's l1: 255.576\tvalid_1's l2: 116568\n",
            "[1200]\ttraining's l1: 15.1873\ttraining's l2: 7700.15\tvalid_1's l1: 218.931\tvalid_1's l2: 93908.6\n",
            "[1250]\ttraining's l1: 15.0764\ttraining's l2: 7638.07\tvalid_1's l1: 197.625\tvalid_1's l2: 81964.3\n",
            "[1300]\ttraining's l1: 14.9681\ttraining's l2: 7521.65\tvalid_1's l1: 186.775\tvalid_1's l2: 76107.9\n",
            "[1350]\ttraining's l1: 14.9132\ttraining's l2: 7491.86\tvalid_1's l1: 182.966\tvalid_1's l2: 74082.5\n",
            "[1400]\ttraining's l1: 14.8707\ttraining's l2: 7481.69\tvalid_1's l1: 182.779\tvalid_1's l2: 73968.9\n",
            "[1450]\ttraining's l1: 14.8318\ttraining's l2: 7469.87\tvalid_1's l1: 182.652\tvalid_1's l2: 73903\n",
            "[1500]\ttraining's l1: 14.7907\ttraining's l2: 7423.3\tvalid_1's l1: 182.225\tvalid_1's l2: 73674.2\n",
            "[1550]\ttraining's l1: 14.6719\ttraining's l2: 7252.76\tvalid_1's l1: 181.928\tvalid_1's l2: 73516.9\n",
            "[1600]\ttraining's l1: 14.6158\ttraining's l2: 7190.17\tvalid_1's l1: 181.927\tvalid_1's l2: 73517.1\n",
            "Early stopping, best iteration is:\n",
            "[1553]\ttraining's l1: 14.6617\ttraining's l2: 7240.5\tvalid_1's l1: 181.927\tvalid_1's l2: 73516.9\n"
          ],
          "name": "stdout"
        }
      ]
    },
    {
      "cell_type": "code",
      "metadata": {
        "colab": {
          "base_uri": "https://localhost:8080/"
        },
        "id": "f9kQg0yV6-Gw",
        "outputId": "a0ada7ad-3d08-49ea-e311-7d1547e8b3e6"
      },
      "source": [
        "model.params"
      ],
      "execution_count": 279,
      "outputs": [
        {
          "output_type": "execute_result",
          "data": {
            "text/plain": [
              "{'boosting_type': 'gbdt',\n",
              " 'learning_rate': 0.01,\n",
              " 'max_depth': 10,\n",
              " 'metric': {'l1', 'l2'},\n",
              " 'n_jobs': -1,\n",
              " 'objective': 'regression_l1'}"
            ]
          },
          "metadata": {
            "tags": []
          },
          "execution_count": 279
        }
      ]
    },
    {
      "cell_type": "code",
      "metadata": {
        "colab": {
          "base_uri": "https://localhost:8080/"
        },
        "id": "t4o-fBoOZlSv",
        "outputId": "e49d3212-1399-44eb-f34a-61cd1f72b6d1"
      },
      "source": [
        "model.feature_importance()"
      ],
      "execution_count": 280,
      "outputs": [
        {
          "output_type": "execute_result",
          "data": {
            "text/plain": [
              "array([29167,  7142,   520,   279,  2186,  3545,  1628,  2123])"
            ]
          },
          "metadata": {
            "tags": []
          },
          "execution_count": 280
        }
      ]
    },
    {
      "cell_type": "markdown",
      "metadata": {
        "id": "4g1dJjasTj6v"
      },
      "source": [
        "## Проверка на test"
      ]
    },
    {
      "cell_type": "code",
      "metadata": {
        "colab": {
          "base_uri": "https://localhost:8080/"
        },
        "id": "w1wcmtzeTjqa",
        "outputId": "9e3f0bd1-b355-46df-9fb6-e6629b210d35"
      },
      "source": [
        "test['prediction'] = model.predict(test[col_names])\n",
        "print('MAE on test: ', mean_absolute_error(test['target'], test['prediction']))\n",
        "print('MAE on test with current mid-price: ', mean_absolute_error(test['target'], test['mid_price']))"
      ],
      "execution_count": 263,
      "outputs": [
        {
          "output_type": "stream",
          "text": [
            "MAE on test:  34.79107574712543\n",
            "MAE on test with current mid-price:  6.157500000001164\n"
          ],
          "name": "stdout"
        },
        {
          "output_type": "stream",
          "text": [
            "/usr/local/lib/python3.7/dist-packages/ipykernel_launcher.py:1: SettingWithCopyWarning: \n",
            "A value is trying to be set on a copy of a slice from a DataFrame.\n",
            "Try using .loc[row_indexer,col_indexer] = value instead\n",
            "\n",
            "See the caveats in the documentation: https://pandas.pydata.org/pandas-docs/stable/user_guide/indexing.html#returning-a-view-versus-a-copy\n",
            "  \"\"\"Entry point for launching an IPython kernel.\n"
          ],
          "name": "stderr"
        }
      ]
    },
    {
      "cell_type": "code",
      "metadata": {
        "colab": {
          "base_uri": "https://localhost:8080/",
          "height": 204
        },
        "id": "D7VqaBW-S4fb",
        "outputId": "2b11e3c0-27a0-433a-9477-3aa75c0519a5"
      },
      "source": [
        "test[['target', 'prediction', 'mid_price']]"
      ],
      "execution_count": 264,
      "outputs": [
        {
          "output_type": "execute_result",
          "data": {
            "text/html": [
              "<div>\n",
              "<style scoped>\n",
              "    .dataframe tbody tr th:only-of-type {\n",
              "        vertical-align: middle;\n",
              "    }\n",
              "\n",
              "    .dataframe tbody tr th {\n",
              "        vertical-align: top;\n",
              "    }\n",
              "\n",
              "    .dataframe thead th {\n",
              "        text-align: right;\n",
              "    }\n",
              "</style>\n",
              "<table border=\"1\" class=\"dataframe\">\n",
              "  <thead>\n",
              "    <tr style=\"text-align: right;\">\n",
              "      <th></th>\n",
              "      <th>target</th>\n",
              "      <th>prediction</th>\n",
              "      <th>mid_price</th>\n",
              "    </tr>\n",
              "  </thead>\n",
              "  <tbody>\n",
              "    <tr>\n",
              "      <th>591536</th>\n",
              "      <td>46977.3425</td>\n",
              "      <td>47018.008088</td>\n",
              "      <td>46993.8100</td>\n",
              "    </tr>\n",
              "    <tr>\n",
              "      <th>591537</th>\n",
              "      <td>46978.0200</td>\n",
              "      <td>47018.419585</td>\n",
              "      <td>46979.3650</td>\n",
              "    </tr>\n",
              "    <tr>\n",
              "      <th>591538</th>\n",
              "      <td>46978.5650</td>\n",
              "      <td>47021.399681</td>\n",
              "      <td>46977.8575</td>\n",
              "    </tr>\n",
              "    <tr>\n",
              "      <th>591539</th>\n",
              "      <td>46987.7700</td>\n",
              "      <td>47013.171464</td>\n",
              "      <td>46984.8725</td>\n",
              "    </tr>\n",
              "    <tr>\n",
              "      <th>591540</th>\n",
              "      <td>46991.8275</td>\n",
              "      <td>47016.481561</td>\n",
              "      <td>46982.4575</td>\n",
              "    </tr>\n",
              "  </tbody>\n",
              "</table>\n",
              "</div>"
            ],
            "text/plain": [
              "            target    prediction   mid_price\n",
              "591536  46977.3425  47018.008088  46993.8100\n",
              "591537  46978.0200  47018.419585  46979.3650\n",
              "591538  46978.5650  47021.399681  46977.8575\n",
              "591539  46987.7700  47013.171464  46984.8725\n",
              "591540  46991.8275  47016.481561  46982.4575"
            ]
          },
          "metadata": {
            "tags": []
          },
          "execution_count": 264
        }
      ]
    }
  ]
}